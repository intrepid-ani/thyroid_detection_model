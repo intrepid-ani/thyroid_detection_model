{
  "cells": [
    {
      "cell_type": "code",
      "execution_count": null,
      "metadata": {
        "id": "CkttkrH4Kq43"
      },
      "outputs": [],
      "source": [
        "#@title Import librarys\n",
        "import pickle\n",
        "import pandas as pd\n",
        "import numpy as np\n",
        "import matplotlib.pyplot as plt\n",
        "import seaborn as sns\n",
        "from sklearn.preprocessing import LabelEncoder, MinMaxScaler\n",
        "from sklearn.linear_model import LinearRegression\n",
        "from sklearn.model_selection import train_test_split\n",
        "from sklearn.svm import LinearSVC, SVC\n",
        "from sklearn.tree import DecisionTreeClassifier\n",
        "from sklearn.metrics import r2_score, classification_report, accuracy_score, confusion_matrix"
      ]
    },
    {
      "cell_type": "code",
      "execution_count": null,
      "metadata": {
        "id": "LCddT2HoLB85"
      },
      "outputs": [],
      "source": [
        "#@title Initialize Variables\n",
        "path= \"/content/thyroidDF.csv\"\n",
        "data = pd.read_csv(path)\n",
        "df = data.copy(True)\n",
        "le = LabelEncoder()"
      ]
    },
    {
      "cell_type": "markdown",
      "metadata": {
        "id": "o1kki3IvhsXT"
      },
      "source": [
        "##Data cleaning\n"
      ]
    },
    {
      "cell_type": "markdown",
      "metadata": {
        "id": "kIfenKGgkt5l"
      },
      "source": [
        "###Understand data\n",
        "\n",
        "---\n"
      ]
    },
    {
      "cell_type": "code",
      "execution_count": null,
      "metadata": {
        "id": "qqsPD1pOwuK2"
      },
      "outputs": [],
      "source": [
        "#@title `head()`\n",
        "df.head(10)"
      ]
    },
    {
      "cell_type": "code",
      "execution_count": null,
      "metadata": {
        "id": "37CivOIDdS-F"
      },
      "outputs": [],
      "source": [
        "#@title Find `columns`\n",
        "col = df.columns\n",
        "col"
      ]
    },
    {
      "cell_type": "code",
      "execution_count": null,
      "metadata": {
        "id": "3mXwWhhddCMj"
      },
      "outputs": [],
      "source": [
        "#@title Ploting the number of `null values`\n",
        "def plotna(data = df, col=col):\n",
        "  nulV = data.isna().sum()\n",
        "  plt.bar(col, nulV)\n",
        "  plt.xlabel(\"Columns\")\n",
        "  plt.ylabel(\"Number of null values\")\n",
        "  plt.xticks(rotation=90, ha='right')\n",
        "  plt.show()\n",
        "\n",
        "plotna(df, col)\n",
        "plot = 0"
      ]
    },
    {
      "cell_type": "code",
      "execution_count": null,
      "metadata": {
        "id": "KtyOAhHIsL_p"
      },
      "outputs": [],
      "source": [
        "#@title `shape` <b>Before Cleaning the data </b>\n",
        "df.shape"
      ]
    },
    {
      "cell_type": "code",
      "execution_count": null,
      "metadata": {
        "id": "PgaXgJXiwQhp"
      },
      "outputs": [],
      "source": [
        "#@title `describe()`\n",
        "df.describe()"
      ]
    },
    {
      "cell_type": "code",
      "execution_count": null,
      "metadata": {
        "id": "N4qjgpaQU30i"
      },
      "outputs": [],
      "source": [
        "#@title  `info()`\n",
        "df.info()"
      ]
    },
    {
      "cell_type": "code",
      "execution_count": null,
      "metadata": {
        "id": "ZnBnhRQ6FsaP"
      },
      "outputs": [],
      "source": [
        "#@title <b>Five summary</B>\n",
        "summary = df.describe()"
      ]
    },
    {
      "cell_type": "code",
      "execution_count": null,
      "metadata": {
        "id": "KlYuG5BzyuWY"
      },
      "outputs": [],
      "source": [
        "# @title <b>Visualization</b> of 5 Summary\n",
        "\n",
        "for i in summary.columns:\n",
        "    q1 = df[i].quantile(0.25)\n",
        "    q3 = df[i].quantile(0.75)\n",
        "    iqr = q3 - q1\n",
        "    lower_bound = q1 - 1.5 * iqr\n",
        "    upper_bound = q3 + 1.5 * iqr\n",
        "\n",
        "    # Filter the data\n",
        "    filtered_data = df[(df[i] >= lower_bound) & (df[i] <= upper_bound)]\n",
        "\n",
        "    # Create subplots\n",
        "    fig, axes = plt.subplots(1, 2, figsize=(12, 6))  # 1 row, 2 columns\n",
        "\n",
        "    # Seaborn Boxplot\n",
        "    sns.boxplot(x=filtered_data[i], width = 0.35, ax= axes[0],color=\"lightblue\")\n",
        "    axes[0].set_xlabel(f\"{i} Levels\")\n",
        "    axes[0].set_title(f\"Box Plot of {i} Levels (Outliers Removed)\")\n",
        "\n",
        "    # Seaborn Histogram\n",
        "    sns.histplot(filtered_data[i], bins=20, kde=True, ax=axes[1], color=\"red\")\n",
        "    axes[1].set_xlabel(f\"{i} Levels\")\n",
        "    axes[1].set_title(f\"Distribution of {i}\")\n",
        "\n",
        "    # Adjust layout and show\n",
        "    plt.tight_layout()\n",
        "    plt.show()\n"
      ]
    },
    {
      "cell_type": "markdown",
      "metadata": {
        "id": "S0_5CAApPB5c"
      },
      "source": [
        "\n",
        "\n",
        "---\n",
        "\n",
        "\n",
        "##Eliminate Null Value\n",
        "\n",
        "\n",
        "---\n",
        "\n",
        "\n",
        "\n"
      ]
    },
    {
      "cell_type": "code",
      "execution_count": null,
      "metadata": {
        "id": "xXKYjvRqgyN4"
      },
      "outputs": [],
      "source": [
        "plotna()"
      ]
    },
    {
      "cell_type": "code",
      "execution_count": null,
      "metadata": {
        "id": "jjLTd2cdskd3"
      },
      "outputs": [],
      "source": [
        "#@title Cleaning ` Age ` column\n",
        "df = df[df['age'] <=100] # Removing elements where the age is more than 100\n",
        "df.age.isna().sum()"
      ]
    },
    {
      "cell_type": "code",
      "execution_count": null,
      "metadata": {
        "id": "yKgTDNiLPB8D"
      },
      "outputs": [],
      "source": [
        "#@title Cleaning `Gender` column\n",
        "df = df.dropna(subset = ['sex'])"
      ]
    },
    {
      "cell_type": "code",
      "execution_count": null,
      "metadata": {
        "id": "knJzIoz5gdj6"
      },
      "outputs": [],
      "source": [
        "\"\"\"\n",
        "No need to Clean ['query_on_thyroxine',\n",
        "       'on_antithyroid_meds', 'sick', 'pregnant', 'thyroid_surgery',\n",
        "       'I131_treatment', 'query_hypothyroid', 'query_hyperthyroid', 'lithium',\n",
        "       'goitre', 'tumor', 'hypopituitary', 'psych', 'TSH_measured',]\n",
        " \"\"\""
      ]
    },
    {
      "cell_type": "code",
      "execution_count": null,
      "metadata": {
        "id": "Frm2plMJfWD-"
      },
      "outputs": [],
      "source": [
        "df.hypopituitary.unique()"
      ]
    },
    {
      "cell_type": "code",
      "execution_count": null,
      "metadata": {
        "id": "kkBFGPCzgdgU"
      },
      "outputs": [],
      "source": [
        "df['TSH'].isna().sum()"
      ]
    },
    {
      "cell_type": "code",
      "execution_count": null,
      "metadata": {
        "id": "DqmFXwChgdZh"
      },
      "outputs": [],
      "source": [
        "#@title Chaning NaN of `TSH,'T3', 'TT4', 'T4U', 'FTI', 'TBG'` columns to there median respectively\n",
        "\n",
        "features_to_impute = ['TSH', 'T3', 'TT4', 'T4U', 'FTI']\n",
        "for feature in features_to_impute:\n",
        "    df[feature] = df[feature].fillna(df[feature].median())"
      ]
    },
    {
      "cell_type": "code",
      "execution_count": null,
      "metadata": {
        "id": "q6pxePhTgdXF"
      },
      "outputs": [],
      "source": [
        "#@title Drop `TBG` column as <b>too many NaN Values<b>\n",
        "df = df.drop(columns=['TBG'])"
      ]
    },
    {
      "cell_type": "code",
      "execution_count": null,
      "metadata": {
        "id": "YgreSn6w1GrQ"
      },
      "outputs": [],
      "source": [
        "col = df.columns #Re-checking columns since we droped `TBG`"
      ]
    },
    {
      "cell_type": "code",
      "execution_count": null,
      "metadata": {
        "collapsed": true,
        "id": "ppRlKaidgdTz"
      },
      "outputs": [],
      "source": [
        "plotna(df, col)"
      ]
    },
    {
      "cell_type": "markdown",
      "metadata": {
        "id": "mpuzLE0o5SbX"
      },
      "source": [
        "###There is a problem in the dataset <b>in target column as the unique values are `['-', 'S', 'F', 'AK', 'R', 'I', 'M', 'N', 'G', 'K', 'A', 'L', 'MK','Q', 'J', 'C|I', 'O', 'LJ', 'H|K', 'GK', 'MI', 'KJ', 'P', 'FK','B', 'GI', 'C', 'GKJ', 'OI', 'D|R', 'D', 'E']`</b>"
      ]
    },
    {
      "cell_type": "code",
      "execution_count": null,
      "metadata": {
        "id": "gFqEPnXZ5RwQ"
      },
      "outputs": [],
      "source": [
        "# Categorizing different classes into 3 major thyroid conditions: Hyperthyroid, Hypothyroid and Negative (No Thyroid Condition)\n",
        "hyperthyroid_conditions = ['A', 'B', 'C', 'D', 'O', 'P', 'Q', 'S', 'T']\n",
        "hypothyroid_conditions = ['E', 'F', 'G', 'H', 'M']\n",
        "normal_conditions = ['-']\n",
        "\n",
        "def categorize_target(value):\n",
        "    # Split the diagnosis into parts for compound cases\n",
        "    diagnoses = value.split('|')\n",
        "    # Check for hyperthyroid conditions\n",
        "    for diagnosis in diagnoses:\n",
        "        if diagnosis in hyperthyroid_conditions:\n",
        "            return 'Hyperthyroid'\n",
        "    # Check for hypothyroid conditions\n",
        "    for diagnosis in diagnoses:\n",
        "        if diagnosis in hypothyroid_conditions:\n",
        "            return 'Hypothyroid'\n",
        "    for diagnosis in diagnoses:\n",
        "        if diagnosis in normal_conditions:\n",
        "            return 'Negative'\n",
        "\n",
        "#Applying 'categorize_target' function on 'target' column to categorize the values into 3 classes\n",
        "df['target'] = df['target'].apply(categorize_target)"
      ]
    },
    {
      "cell_type": "code",
      "execution_count": null,
      "metadata": {
        "id": "ogbj64P9NHBp"
      },
      "outputs": [],
      "source": [
        "# df = df.dropna()\n",
        "# df.target.isna().sum()"
      ]
    },
    {
      "cell_type": "markdown",
      "metadata": {
        "id": "jvTqQM04gdRD"
      },
      "source": [
        "---\n",
        "#### Hurray!!! Data Is Clean And Ready To Use  \n",
        "---"
      ]
    },
    {
      "cell_type": "code",
      "execution_count": null,
      "metadata": {
        "id": "aTtA4TNo0qS3"
      },
      "outputs": [],
      "source": [
        "# @title Removing Unwanted data `'patient_id', 'TBG_measured', 'TSH_measured', 'T3_measured', 'TT4_measured', 'T4U_measured', 'FTI_measured', 'referral_source'`\n",
        "# Drop irrelevant and redundant columns\n",
        "columns_to_drop = [\n",
        "    'patient_id', 'TBG_measured', 'TSH_measured', 'T3_measured',\n",
        "    'TT4_measured', 'T4U_measured', 'FTI_measured', 'referral_source'\n",
        "]\n",
        "\n",
        "# Remove unwanted columns\n",
        "df = df.drop(columns=columns_to_drop)"
      ]
    },
    {
      "cell_type": "code",
      "execution_count": null,
      "metadata": {
        "id": "Gmr0NHZG083z"
      },
      "outputs": [],
      "source": [
        "df.hypopituitary.unique()"
      ]
    },
    {
      "cell_type": "markdown",
      "metadata": {
        "id": "2UjhETn8gdOZ"
      },
      "source": [
        "##Encoding Data using `LabelEncoder`\n",
        "---"
      ]
    },
    {
      "cell_type": "code",
      "execution_count": null,
      "metadata": {
        "id": "SUnpnIch3MUE"
      },
      "outputs": [],
      "source": [
        "binary_cols = [\n",
        "    'sex', 'on_thyroxine', 'query_on_thyroxine', 'on_antithyroid_meds', 'sick',\n",
        "    'pregnant', 'thyroid_surgery', 'I131_treatment', 'query_hypothyroid',\n",
        "    'query_hyperthyroid', 'lithium', 'goitre', 'tumor', 'hypopituitary', 'psych', 'target'\n",
        "]\n",
        "\n",
        "label_encoders = {}\n",
        "for col in binary_cols:\n",
        "    le = LabelEncoder()\n",
        "    df[col] = le.fit_transform(df[col])  # Encode each binary column\n",
        "    label_encoders[col] = le"
      ]
    },
    {
      "cell_type": "code",
      "execution_count": null,
      "metadata": {
        "id": "MMjLJbfy0-8U"
      },
      "outputs": [],
      "source": [
        "# @title Scaling columns using `MinMaxScaler`\n",
        "\n",
        "scaler = MinMaxScaler()\n",
        "numerical_features = ['TSH', 'T3', 'TT4', 'T4U', 'FTI']\n",
        "df[numerical_features] = scaler.fit_transform(df[numerical_features])"
      ]
    },
    {
      "cell_type": "code",
      "execution_count": null,
      "metadata": {
        "id": "wJ7G6RUO0_Dz"
      },
      "outputs": [],
      "source": [
        "df.head()"
      ]
    },
    {
      "cell_type": "markdown",
      "metadata": {
        "id": "M6S6oHLSs-g0"
      },
      "source": [
        "## Finding the Covariance of feature\n",
        "---"
      ]
    },
    {
      "cell_type": "code",
      "execution_count": null,
      "metadata": {
        "id": "_wTNesq8if6k"
      },
      "outputs": [],
      "source": [
        "# Assuming `data` is your dataset with features and target combined\n",
        "plt.figure(figsize=(10, 8))\n",
        "correlation_matrix = df.corr()\n",
        "\n",
        "# Use Seaborn to create the heatmap\n",
        "sns.heatmap(correlation_matrix, annot=True, fmt=\".2f\", cmap=\"coolwarm\", cbar=True)\n",
        "plt.title(\"Correlation Heatmap\")\n",
        "plt.show()"
      ]
    },
    {
      "cell_type": "code",
      "execution_count": null,
      "metadata": {
        "id": "e2ITTKLetQGF"
      },
      "outputs": [],
      "source": [
        "correlation_matrix.target"
      ]
    },
    {
      "cell_type": "markdown",
      "metadata": {
        "id": "NcMxxskl0_Il"
      },
      "source": [
        "#Create Models\n",
        "---\n",
        "\n",
        "*   <b>Linear regression(<i>Multiple</i>)\n",
        "*   KNN\n",
        "*   SVM\n",
        "*   Decision Tree</b>\n",
        "\n",
        "---\n"
      ]
    },
    {
      "cell_type": "markdown",
      "metadata": {
        "id": "zVar9p9l0_MV"
      },
      "source": [
        "## Linear Regression\n",
        "---"
      ]
    },
    {
      "cell_type": "code",
      "execution_count": null,
      "metadata": {
        "id": "yJE16kG30_Qe"
      },
      "outputs": [],
      "source": [
        "target_column = 'target'\n",
        "\n",
        "X = df.drop(columns=['target'])\n",
        "y = df[target_column]\n",
        "\n",
        "# Split the data into training and testing sets\n",
        "X_train, X_test, y_train, y_test = train_test_split(X, y, test_size=0.2, random_state=42)"
      ]
    },
    {
      "cell_type": "code",
      "execution_count": null,
      "metadata": {
        "id": "9jM1kTpoMzAa"
      },
      "outputs": [],
      "source": [
        "LinearRegression_model = LinearRegression()\n",
        "LinearRegression_model.fit(X_train, y_train)"
      ]
    },
    {
      "cell_type": "code",
      "execution_count": null,
      "metadata": {
        "id": "PzssAk2z0_Uc"
      },
      "outputs": [],
      "source": [
        "ypred = LinearRegression_model.predict(X)\n",
        "linear_result = r2_score(y, ypred)\n",
        "print(\"R^2 Score:\", linear_result)"
      ]
    },
    {
      "cell_type": "markdown",
      "metadata": {
        "id": "YUBCzPlFDirK"
      },
      "source": [
        "---\n",
        "##KNN\n",
        "\n",
        "---"
      ]
    },
    {
      "cell_type": "code",
      "execution_count": null,
      "metadata": {
        "id": "D1eRdHADDita"
      },
      "outputs": [],
      "source": [
        "from sklearn.neighbors import KNeighborsClassifier\n",
        "KNN_model = KNeighborsClassifier(n_neighbors= 3, metric='euclidean')\n",
        "KNN_model.fit(X_train, y_train)"
      ]
    },
    {
      "cell_type": "code",
      "execution_count": null,
      "metadata": {
        "id": "NHoemQcP1K-1"
      },
      "outputs": [],
      "source": [
        "ypred = KNN_model.predict(X)\n",
        "print(ypred)"
      ]
    },
    {
      "cell_type": "code",
      "execution_count": null,
      "metadata": {
        "id": "6X-XB6SV1K7x"
      },
      "outputs": [],
      "source": [
        "knn_result = accuracy_score(y, ypred)\n",
        "knn_result"
      ]
    },
    {
      "cell_type": "markdown",
      "metadata": {
        "id": "utSRrXrG1K5X"
      },
      "source": [
        "---\n",
        "##SVM\n",
        "---\n",
        "* Linear SVM\n",
        "* Non-Linear SVM"
      ]
    },
    {
      "cell_type": "code",
      "execution_count": null,
      "metadata": {
        "id": "LP9uvMDj1K2y"
      },
      "outputs": [],
      "source": [
        "# @title Linear SVM\n",
        "LinearSVC_model = LinearSVC()\n",
        "LinearSVC_model.fit(X_train, y_train)"
      ]
    },
    {
      "cell_type": "code",
      "execution_count": null,
      "metadata": {
        "id": "8i9bkp0z1Kza"
      },
      "outputs": [],
      "source": [
        "ypred = LinearSVC_model.predict(X)\n",
        "linear_svm_result = accuracy_score(y, ypred)\n",
        "linear_svm_result"
      ]
    },
    {
      "cell_type": "code",
      "execution_count": null,
      "metadata": {
        "id": "JQpryGsE1Kws"
      },
      "outputs": [],
      "source": [
        "confusion_matrix(y, ypred)"
      ]
    },
    {
      "cell_type": "markdown",
      "metadata": {
        "id": "MhTkUdi3L1lK"
      },
      "source": [
        "### Non-linear *SVM*"
      ]
    },
    {
      "cell_type": "code",
      "execution_count": null,
      "metadata": {
        "id": "ocsLHKAm1Kth"
      },
      "outputs": [],
      "source": [
        "#@title Finding the best degree\n",
        "# for i in range(50):\n",
        "#   model = SVC (kernel = 'poly', degree = ).fit(X, y)\n",
        "#   print(\"POLY3: \",i , model.score(X_train, y_train))\n",
        "\n",
        "# Just to find out the best suitable degree"
      ]
    },
    {
      "cell_type": "code",
      "execution_count": null,
      "metadata": {
        "id": "W3kSbkFCKTkP"
      },
      "outputs": [],
      "source": [
        "#@title SVM using `Radial Basis Function` ' rbf ' kernel\n",
        "RBFSVM_model = SVC (kernel = \"rbf\").fit(X, y)"
      ]
    },
    {
      "cell_type": "code",
      "execution_count": null,
      "metadata": {
        "id": "OEztE8B6LK0F"
      },
      "outputs": [],
      "source": [
        "rbf_result = RBFSVM_model.score(X, y)\n",
        "rbf_result"
      ]
    },
    {
      "cell_type": "code",
      "execution_count": null,
      "metadata": {
        "id": "mx-Q8yg4Ntsa"
      },
      "outputs": [],
      "source": [
        "#@title SVM using `Polynomial` ' poly ' where the best <b><u>degree is 20</u></b> kernel\n",
        "# But it requires high computational power\n",
        "PolynomialSVM_model = SVC (kernel = \"poly\", degree= 15).fit(X, y)"
      ]
    },
    {
      "cell_type": "code",
      "execution_count": null,
      "metadata": {
        "id": "pwExVb3YODVP"
      },
      "outputs": [],
      "source": [
        "poly_result = PolynomialSVM_model.score(X, y)\n",
        "poly_result"
      ]
    },
    {
      "cell_type": "markdown",
      "metadata": {
        "id": "-SeA65XZSp5r"
      },
      "source": [
        "---\n",
        "## Decision Tree\n",
        "---"
      ]
    },
    {
      "cell_type": "code",
      "execution_count": null,
      "metadata": {
        "id": "PN6_WsMNSsC-"
      },
      "outputs": [],
      "source": [
        "DecisionTree_model= DecisionTreeClassifier()\n",
        "DecisionTree_model.fit(X_train, y_train)"
      ]
    },
    {
      "cell_type": "code",
      "execution_count": null,
      "metadata": {
        "id": "eT_iMMpTSr_h"
      },
      "outputs": [],
      "source": [
        "ypred = DecisionTree_model.predict(X)\n",
        "decision_tree_result = accuracy_score(ypred, y)"
      ]
    },
    {
      "cell_type": "markdown",
      "metadata": {
        "id": "WF06Iei0oguA"
      },
      "source": [
        "## Visualizing the performance of all the models"
      ]
    },
    {
      "cell_type": "code",
      "execution_count": null,
      "metadata": {
        "id": "gYcGlCyzo4T-"
      },
      "outputs": [],
      "source": [
        "# Data\n",
        "results = [linear_result, knn_result, linear_svm_result, rbf_result,  poly_result, decision_tree_result]\n",
        "names = ['LinearRegression', 'KNN', 'LinearSVM', 'RBFSVM', 'PolynomialSVM', 'DecisionTree']\n",
        "\n",
        "# Plot\n",
        "plt.figure(figsize=(8, 6))\n",
        "sns.barplot(x=names, y=results, color=\"lightgreen\")\n",
        "\n",
        "# Adding titles and labels\n",
        "plt.title(\"Comparison of Model Results\", fontsize=16)\n",
        "plt.xlabel(\"Models\", fontsize=14)\n",
        "plt.ylabel(\"Results\", fontsize=14)\n",
        "plt.xticks(rotation=45)  # Rotate x-axis labels if needed\n",
        "plt.tight_layout()\n",
        "\n",
        "# Show the plot\n",
        "plt.show()\n",
        "\n",
        "for i in range(len(results)):\n",
        "  print(f\"Result of {names[i]} : {results[i]}\" )\n"
      ]
    },
    {
      "cell_type": "markdown",
      "metadata": {
        "id": "jyak8VY4njzP"
      },
      "source": [
        "## Coping models to `thyroid_dection_models` using dictionary dataStructure"
      ]
    },
    {
      "cell_type": "code",
      "execution_count": null,
      "metadata": {
        "id": "mmeWJZpwFJT8"
      },
      "outputs": [],
      "source": [
        "model_list = [LinearRegression_model, KNN_model, LinearSVC_model, RBFSVM_model, PolynomialSVM_model, DecisionTree_model]\n",
        "model_name = ['LinearRegression_model', 'KNN_model', 'LinearSVC_model', 'RBFSVM_model', 'PolynomialSVM_model', 'DecisionTree_model']\n",
        "models = {}\n",
        "for i in range(len(model_list)):\n",
        "  models[model_name[i]] = model_list[i]\n",
        "\n",
        "models"
      ]
    },
    {
      "cell_type": "code",
      "execution_count": null,
      "metadata": {
        "id": "NUXtLPbYn0bj"
      },
      "outputs": [],
      "source": [
        "# Assuming `model` is your trained decision tree\n",
        "file_name = \"thyroid_dection_models.pkl\"\n",
        "with open(file_name, \"wb\") as file:\n",
        "    pickle.dump(models, file),\n",
        "print(f\"Model saved as '{file_name}'\")"
      ]
    },
    {
      "cell_type": "code",
      "execution_count": null,
      "metadata": {
        "id": "b0M3Gam4G-sv"
      },
      "outputs": [],
      "source": [
        "# Load the model from the pickle file\n",
        "with open(file_name, \"rb\") as file:\n",
        "    loaded_model = pickle.load(file)\n",
        "\n",
        "# Use the loaded model for predictions\n",
        "ypred = loaded_model['DecisionTree_model'].predict(X)\n",
        "ypred"
      ]
    }
  ],
  "metadata": {
    "accelerator": "GPU",
    "colab": {
      "gpuType": "T4",
      "private_outputs": true,
      "provenance": []
    },
    "kernelspec": {
      "display_name": "Python 3",
      "name": "python3"
    },
    "language_info": {
      "name": "python"
    }
  },
  "nbformat": 4,
  "nbformat_minor": 0
}
